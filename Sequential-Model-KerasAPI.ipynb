{
 "cells": [
  {
   "cell_type": "code",
   "execution_count": null,
   "metadata": {},
   "outputs": [],
   "source": [
    "#https://www.youtube.com/watch?v=qFJeN9V1ZsI&ab_channel=freeCodeCamp.org"
   ]
  },
  {
   "cell_type": "markdown",
   "metadata": {},
   "source": [
    "## Data Preprocessing"
   ]
  },
  {
   "cell_type": "code",
   "execution_count": 19,
   "metadata": {},
   "outputs": [],
   "source": [
    "import numpy as np\n",
    "from random import randint\n",
    "from sklearn.utils import shuffle\n",
    "from sklearn.preprocessing import MinMaxScaler"
   ]
  },
  {
   "cell_type": "code",
   "execution_count": 20,
   "metadata": {},
   "outputs": [],
   "source": [
    "train_labels = []\n",
    "train_samples = []"
   ]
  },
  {
   "cell_type": "markdown",
   "metadata": {},
   "source": [
    "### Creating numerical data ourselves\n",
    "##### Example data\n",
    "##### - Experimental drug tested on individuals from ages 13 to 100 in clinical trial\n",
    "##### - Trial has 2100 participants. Half under 65 and half above 65.\n",
    "##### -  Around 95% of patients 65 or older experiences side effects\n",
    "##### - Around 95% of patients under 65 no experiences side effects"
   ]
  },
  {
   "cell_type": "code",
   "execution_count": 21,
   "metadata": {},
   "outputs": [],
   "source": [
    "for i in range(50):\n",
    "    # ~5% of younger than 65 experienced side effect\n",
    "    random_younger = randint(13,64)\n",
    "    train_samples.append(random_younger) \n",
    "    train_labels.append(1)\n",
    "    \n",
    "    # ~5% of older than 65 experienced NO side effect\n",
    "    random_younger = randint(65,100)\n",
    "    train_samples.append(random_younger) \n",
    "    train_labels.append(0)\n",
    "    \n",
    "for i in range(1000):\n",
    "    # ~95% of younger than 65 experienced NO side effect\n",
    "    random_younger = randint(13,64)\n",
    "    train_samples.append(random_younger) \n",
    "    train_labels.append(0)\n",
    "    \n",
    "    # ~95% of older than 65 experienced side effect\n",
    "    random_younger = randint(65,100)\n",
    "    train_samples.append(random_younger) \n",
    "    train_labels.append(1)"
   ]
  },
  {
   "cell_type": "code",
   "execution_count": 25,
   "metadata": {},
   "outputs": [],
   "source": [
    "#feeding the fit function by taking the list and converting into numpy array\n",
    "train_samples = np.array(train_samples)\n",
    "train_labels = np.array(train_labels)\n",
    "train_samples, train_labels = shuffle(train_samples, train_labels)"
   ]
  },
  {
   "cell_type": "code",
   "execution_count": 27,
   "metadata": {},
   "outputs": [],
   "source": [
    "scaler = MinMaxScaler(feature_range=(0,1)) #converting from 13 - 100 to 0 - 1\n",
    "scaled_train_samples = scaler.fit_transform(train_samples.reshape(-1,1)) #reshape bc fit function does not accept 1-D\n",
    "                      "
   ]
  },
  {
   "cell_type": "markdown",
   "metadata": {},
   "source": [
    "### Keras sequential Model"
   ]
  },
  {
   "cell_type": "code",
   "execution_count": 34,
   "metadata": {},
   "outputs": [],
   "source": [
    "import tensorflow as tf\n",
    "from tensorflow import keras\n",
    "from tensorflow.keras.models import Sequential\n",
    "from tensorflow.keras.layers import Activation, Dense\n",
    "from tensorflow.keras.optimizers import Adam\n",
    "from tensorflow.keras.metrics import categorical_crossentropy"
   ]
  },
  {
   "cell_type": "markdown",
   "metadata": {},
   "source": [
    "### Building a Sequential Model"
   ]
  },
  {
   "cell_type": "code",
   "execution_count": 36,
   "metadata": {},
   "outputs": [],
   "source": [
    "model = Sequential ([\n",
    "    Dense(units = 16, input_shape = (1,), activation = 'relu'),\n",
    "    Dense(units = 32, activation = 'relu'),\n",
    "    Dense(units = 2, activation = 'softmax') # dense means densely connected layer and softmax is used to show probablity between the two classes\n",
    "])"
   ]
  },
  {
   "cell_type": "code",
   "execution_count": 37,
   "metadata": {},
   "outputs": [
    {
     "name": "stdout",
     "output_type": "stream",
     "text": [
      "Model: \"sequential\"\n",
      "_________________________________________________________________\n",
      "Layer (type)                 Output Shape              Param #   \n",
      "=================================================================\n",
      "dense_1 (Dense)              (None, 16)                32        \n",
      "_________________________________________________________________\n",
      "dense_2 (Dense)              (None, 32)                544       \n",
      "_________________________________________________________________\n",
      "dense_3 (Dense)              (None, 2)                 66        \n",
      "=================================================================\n",
      "Total params: 642\n",
      "Trainable params: 642\n",
      "Non-trainable params: 0\n",
      "_________________________________________________________________\n"
     ]
    }
   ],
   "source": [
    "model.summary() "
   ]
  },
  {
   "cell_type": "markdown",
   "metadata": {},
   "source": [
    "### Prepare the model for training"
   ]
  },
  {
   "cell_type": "code",
   "execution_count": 38,
   "metadata": {},
   "outputs": [],
   "source": [
    "model.compile (optimizer = Adam(learning_rate = 0.0001),\n",
    "              loss = 'sparse_categorical_crossentropy',\n",
    "              metrics = ['accuracy'])"
   ]
  },
  {
   "cell_type": "markdown",
   "metadata": {},
   "source": [
    "### Training the model"
   ]
  },
  {
   "cell_type": "code",
   "execution_count": 42,
   "metadata": {},
   "outputs": [
    {
     "name": "stdout",
     "output_type": "stream",
     "text": [
      "Epoch 1/30\n",
      "189/189 - 0s - loss: 0.2445 - accuracy: 0.9476 - val_loss: 0.2151 - val_accuracy: 0.9524\n",
      "Epoch 2/30\n",
      "189/189 - 0s - loss: 0.2446 - accuracy: 0.9476 - val_loss: 0.2160 - val_accuracy: 0.9524\n",
      "Epoch 3/30\n",
      "189/189 - 0s - loss: 0.2441 - accuracy: 0.9481 - val_loss: 0.2163 - val_accuracy: 0.9524\n",
      "Epoch 4/30\n",
      "189/189 - 0s - loss: 0.2439 - accuracy: 0.9476 - val_loss: 0.2155 - val_accuracy: 0.9524\n",
      "Epoch 5/30\n",
      "189/189 - 0s - loss: 0.2435 - accuracy: 0.9476 - val_loss: 0.2155 - val_accuracy: 0.9524\n",
      "Epoch 6/30\n",
      "189/189 - 0s - loss: 0.2434 - accuracy: 0.9476 - val_loss: 0.2148 - val_accuracy: 0.9524\n",
      "Epoch 7/30\n",
      "189/189 - 0s - loss: 0.2430 - accuracy: 0.9476 - val_loss: 0.2153 - val_accuracy: 0.9524\n",
      "Epoch 8/30\n",
      "189/189 - 0s - loss: 0.2429 - accuracy: 0.9476 - val_loss: 0.2149 - val_accuracy: 0.9524\n",
      "Epoch 9/30\n",
      "189/189 - 0s - loss: 0.2426 - accuracy: 0.9476 - val_loss: 0.2149 - val_accuracy: 0.9524\n",
      "Epoch 10/30\n",
      "189/189 - 0s - loss: 0.2423 - accuracy: 0.9476 - val_loss: 0.2154 - val_accuracy: 0.9524\n",
      "Epoch 11/30\n",
      "189/189 - 0s - loss: 0.2421 - accuracy: 0.9476 - val_loss: 0.2148 - val_accuracy: 0.9524\n",
      "Epoch 12/30\n",
      "189/189 - 0s - loss: 0.2419 - accuracy: 0.9476 - val_loss: 0.2144 - val_accuracy: 0.9524\n",
      "Epoch 13/30\n",
      "189/189 - 0s - loss: 0.2417 - accuracy: 0.9476 - val_loss: 0.2147 - val_accuracy: 0.9524\n",
      "Epoch 14/30\n",
      "189/189 - 0s - loss: 0.2415 - accuracy: 0.9476 - val_loss: 0.2140 - val_accuracy: 0.9524\n",
      "Epoch 15/30\n",
      "189/189 - 0s - loss: 0.2414 - accuracy: 0.9476 - val_loss: 0.2139 - val_accuracy: 0.9524\n",
      "Epoch 16/30\n",
      "189/189 - 0s - loss: 0.2413 - accuracy: 0.9476 - val_loss: 0.2139 - val_accuracy: 0.9524\n",
      "Epoch 17/30\n",
      "189/189 - 0s - loss: 0.2410 - accuracy: 0.9476 - val_loss: 0.2133 - val_accuracy: 0.9524\n",
      "Epoch 18/30\n",
      "189/189 - 0s - loss: 0.2408 - accuracy: 0.9481 - val_loss: 0.2140 - val_accuracy: 0.9524\n",
      "Epoch 19/30\n",
      "189/189 - 0s - loss: 0.2408 - accuracy: 0.9487 - val_loss: 0.2146 - val_accuracy: 0.9524\n",
      "Epoch 20/30\n",
      "189/189 - 0s - loss: 0.2406 - accuracy: 0.9476 - val_loss: 0.2136 - val_accuracy: 0.9524\n",
      "Epoch 21/30\n",
      "189/189 - 0s - loss: 0.2403 - accuracy: 0.9476 - val_loss: 0.2136 - val_accuracy: 0.9524\n",
      "Epoch 22/30\n",
      "189/189 - 0s - loss: 0.2402 - accuracy: 0.9476 - val_loss: 0.2128 - val_accuracy: 0.9524\n",
      "Epoch 23/30\n",
      "189/189 - 0s - loss: 0.2400 - accuracy: 0.9476 - val_loss: 0.2128 - val_accuracy: 0.9524\n",
      "Epoch 24/30\n",
      "189/189 - 0s - loss: 0.2399 - accuracy: 0.9492 - val_loss: 0.2134 - val_accuracy: 0.9524\n",
      "Epoch 25/30\n",
      "189/189 - 0s - loss: 0.2398 - accuracy: 0.9487 - val_loss: 0.2131 - val_accuracy: 0.9524\n",
      "Epoch 26/30\n",
      "189/189 - 0s - loss: 0.2396 - accuracy: 0.9476 - val_loss: 0.2126 - val_accuracy: 0.9524\n",
      "Epoch 27/30\n",
      "189/189 - 0s - loss: 0.2395 - accuracy: 0.9476 - val_loss: 0.2127 - val_accuracy: 0.9524\n",
      "Epoch 28/30\n",
      "189/189 - 0s - loss: 0.2394 - accuracy: 0.9476 - val_loss: 0.2122 - val_accuracy: 0.9524\n",
      "Epoch 29/30\n",
      "189/189 - 0s - loss: 0.2391 - accuracy: 0.9471 - val_loss: 0.2125 - val_accuracy: 0.9524\n",
      "Epoch 30/30\n",
      "189/189 - 0s - loss: 0.2390 - accuracy: 0.9476 - val_loss: 0.2128 - val_accuracy: 0.9524\n"
     ]
    },
    {
     "data": {
      "text/plain": [
       "<tensorflow.python.keras.callbacks.History at 0x7fa382c35ee0>"
      ]
     },
     "execution_count": 42,
     "metadata": {},
     "output_type": "execute_result"
    }
   ],
   "source": [
    "model.fit(x = scaled_train_samples, y =  train_labels, validation_split = 0.1, batch_size = 10, epochs = 30,shuffle = True, verbose = 2)"
   ]
  },
  {
   "cell_type": "markdown",
   "metadata": {},
   "source": [
    "## Preparing Test data"
   ]
  },
  {
   "cell_type": "code",
   "execution_count": 47,
   "metadata": {},
   "outputs": [],
   "source": [
    "test_labels = []\n",
    "test_samples = []"
   ]
  },
  {
   "cell_type": "code",
   "execution_count": 48,
   "metadata": {},
   "outputs": [],
   "source": [
    "for i in range(10):\n",
    "    # ~5% of younger than 65 experienced side effect\n",
    "    random_younger = randint(13,64)\n",
    "    test_samples.append(random_younger) \n",
    "    test_labels.append(1)\n",
    "    \n",
    "    # ~5% of older than 65 experienced NO side effect\n",
    "    random_younger = randint(65,100)\n",
    "    test_samples.append(random_younger) \n",
    "    test_labels.append(0)\n",
    "    \n",
    "for i in range(200):\n",
    "    # ~95% of younger than 65 experienced NO side effect\n",
    "    random_younger = randint(13,64)\n",
    "    test_samples.append(random_younger) \n",
    "    test_labels.append(0)\n",
    "    \n",
    "    # ~95% of older than 65 experienced side effect\n",
    "    random_younger = randint(65,100)\n",
    "    test_samples.append(random_younger) \n",
    "    test_labels.append(1)"
   ]
  },
  {
   "cell_type": "code",
   "execution_count": 49,
   "metadata": {},
   "outputs": [],
   "source": [
    "#feeding the fit function by taking the list and converting into numpy array\n",
    "test_samples = np.array(test_samples)\n",
    "test_labels = np.array(test_labels)\n",
    "test_samples, test_labels = shuffle(test_samples, test_labels)"
   ]
  },
  {
   "cell_type": "code",
   "execution_count": 50,
   "metadata": {},
   "outputs": [],
   "source": [
    "scaled_test_samples = scaler.fit_transform(test_samples.reshape(-1,1))"
   ]
  },
  {
   "cell_type": "markdown",
   "metadata": {},
   "source": [
    "## Predict"
   ]
  },
  {
   "cell_type": "code",
   "execution_count": 52,
   "metadata": {},
   "outputs": [],
   "source": [
    "predictions = model.predict(x=scaled_test_samples,batch_size = 10, verbose = 0) #verbose 0 since we dont need output from this"
   ]
  },
  {
   "cell_type": "code",
   "execution_count": 2,
   "metadata": {},
   "outputs": [],
   "source": [
    "#for i in predictions:\n",
    "#    print(i) #shows the probablity in test set that the patient not experiencing side effect or experiencing side effect"
   ]
  },
  {
   "cell_type": "code",
   "execution_count": 55,
   "metadata": {},
   "outputs": [],
   "source": [
    "rounded_predictions = np.argmax(predictions, axis = -1)"
   ]
  },
  {
   "cell_type": "code",
   "execution_count": 1,
   "metadata": {},
   "outputs": [],
   "source": [
    "#for i in rounded_predictions :\n",
    "#    print(i)"
   ]
  },
  {
   "cell_type": "markdown",
   "metadata": {},
   "source": [
    "### Confusion Matrix"
   ]
  },
  {
   "cell_type": "code",
   "execution_count": 57,
   "metadata": {},
   "outputs": [],
   "source": [
    "%matplotlib inline\n",
    "from sklearn.metrics import confusion_matrix\n",
    "import itertools\n",
    "import matplotlib.pyplot as plt"
   ]
  },
  {
   "cell_type": "code",
   "execution_count": 58,
   "metadata": {},
   "outputs": [],
   "source": [
    "cm = confusion_matrix(y_true = test_labels , y_pred = rounded_predictions )"
   ]
  },
  {
   "cell_type": "code",
   "execution_count": 59,
   "metadata": {},
   "outputs": [],
   "source": [
    "def plot_confusion_matrix(cm, classes,\n",
    "                        normalize=False,\n",
    "                        title='Confusion matrix',\n",
    "                        cmap=plt.cm.Blues):\n",
    "    \"\"\"\n",
    "    This function prints and plots the confusion matrix.\n",
    "    Normalization can be applied by setting `normalize=True`.\n",
    "    \"\"\"\n",
    "    plt.imshow(cm, interpolation='nearest', cmap=cmap)\n",
    "    plt.title(title)\n",
    "    plt.colorbar()\n",
    "    tick_marks = np.arange(len(classes))\n",
    "    plt.xticks(tick_marks, classes, rotation=45)\n",
    "    plt.yticks(tick_marks, classes)\n",
    "\n",
    "    if normalize:\n",
    "        cm = cm.astype('float') / cm.sum(axis=1)[:, np.newaxis]\n",
    "        print(\"Normalized confusion matrix\")\n",
    "    else:\n",
    "        print('Confusion matrix, without normalization')\n",
    "\n",
    "    print(cm)\n",
    "\n",
    "    thresh = cm.max() / 2.\n",
    "    for i, j in itertools.product(range(cm.shape[0]), range(cm.shape[1])):\n",
    "        plt.text(j, i, cm[i, j],\n",
    "            horizontalalignment=\"center\",\n",
    "            color=\"white\" if cm[i, j] > thresh else \"black\")\n",
    "\n",
    "    plt.tight_layout()\n",
    "    plt.ylabel('True label')\n",
    "    plt.xlabel('Predicted label')"
   ]
  },
  {
   "cell_type": "code",
   "execution_count": 61,
   "metadata": {},
   "outputs": [
    {
     "name": "stdout",
     "output_type": "stream",
     "text": [
      "Confusion matrix, without normalization\n",
      "[[197  13]\n",
      " [ 10 200]]\n"
     ]
    },
    {
     "data": {
      "image/png": "[encoded data removed]",
      "text/plain": [
       "<Figure size 432x288 with 2 Axes>"
      ]
     },
     "metadata": {
      "needs_background": "light"
     },
     "output_type": "display_data"
    }
   ],
   "source": [
    "cm_plot_labels = ['no_side_effects','had_side_effects']\n",
    "plot_confusion_matrix(cm=cm, classes=cm_plot_labels, title='Confusion Matrix')"
   ]
  },
  {
   "cell_type": "code",
   "execution_count": null,
   "metadata": {},
   "outputs": [],
   "source": []
  }
 ],
 "metadata": {
  "kernelspec": {
   "display_name": "Python 3",
   "language": "python",
   "name": "python3"
  },
  "language_info": {
   "codemirror_mode": {
    "name": "ipython",
    "version": 3
   },
   "file_extension": ".py",
   "mimetype": "text/x-python",
   "name": "python",
   "nbconvert_exporter": "python",
   "pygments_lexer": "ipython3",
   "version": "3.8.3"
  }
 },
 "nbformat": 4,
 "nbformat_minor": 4
}
